{
 "cells": [
  {
   "cell_type": "code",
   "execution_count": 3,
   "metadata": {},
   "outputs": [
    {
     "name": "stdout",
     "output_type": "stream",
     "text": [
      "10 bukan bilangan prima\n"
     ]
    }
   ],
   "source": [
    "#soal1\n",
    "def cekprima(n, x=2):\n",
    "    if n < 2:\n",
    "        return False\n",
    "    if n == 2:\n",
    "        return True\n",
    "    if n % x == 0:\n",
    "        return False\n",
    "    if x * x > n:\n",
    "        return True\n",
    "    return cekprima(n, x + 1)\n",
    "\n",
    "bilangan= 10\n",
    "\n",
    "if cekprima(bilangan):\n",
    "    print(bilangan, \"adalah bilangan prima\")\n",
    "else:\n",
    "    print(bilangan, \"bukan bilangan prima\")"
   ]
  },
  {
   "cell_type": "code",
   "execution_count": 2,
   "metadata": {},
   "outputs": [
    {
     "name": "stdout",
     "output_type": "stream",
     "text": [
      "True\n",
      "False\n"
     ]
    }
   ],
   "source": [
    "#soal2\n",
    "def pln(s):\n",
    "    if len(s) <= 1:\n",
    "        return True\n",
    "    if s[0] != s[-1]:\n",
    "        return False\n",
    "    return pln(s[1:-1])\n",
    "\n",
    "print(pln(\"kasur rusak\"))  # True\n",
    "print(pln(\"hello\"))    # False\n"
   ]
  },
  {
   "cell_type": "code",
   "execution_count": null,
   "metadata": {},
   "outputs": [],
   "source": [
    "#soal3"
   ]
  },
  {
   "cell_type": "code",
   "execution_count": 9,
   "metadata": {},
   "outputs": [
    {
     "name": "stdout",
     "output_type": "stream",
     "text": [
      "2 + 3 + 4 = 9\n"
     ]
    }
   ],
   "source": [
    "def jml(n):\n",
    "    if n < 10:\n",
    "        return n, str(n)\n",
    "    else:\n",
    "        lasdigit = n % 10\n",
    "        asem, w = jml(n // 10)\n",
    "        return lasdigit + asem, w + \" + \" + str(lasdigit)\n",
    "\n",
    "number = 234\n",
    "x, y = jml(number)\n",
    "print(f\"{y} = {x}\")\n"
   ]
  },
  {
   "cell_type": "code",
   "execution_count": null,
   "metadata": {},
   "outputs": [],
   "source": [
    "#soal5"
   ]
  }
 ],
 "metadata": {
  "kernelspec": {
   "display_name": "Python 3",
   "language": "python",
   "name": "python3"
  },
  "language_info": {
   "codemirror_mode": {
    "name": "ipython",
    "version": 3
   },
   "file_extension": ".py",
   "mimetype": "text/x-python",
   "name": "python",
   "nbconvert_exporter": "python",
   "pygments_lexer": "ipython3",
   "version": "3.12.3"
  }
 },
 "nbformat": 4,
 "nbformat_minor": 2
}
